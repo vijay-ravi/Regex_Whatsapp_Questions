{
 "cells": [
  {
   "cell_type": "code",
   "execution_count": null,
   "metadata": {},
   "outputs": [],
   "source": [
    "import pandas as pd\n",
    "import re"
   ]
  },
  {
   "cell_type": "code",
   "execution_count": null,
   "metadata": {
    "scrolled": true
   },
   "outputs": [],
   "source": [
    "file = open(r'./chat.txt',mode='r',encoding=\"utf8\")\n",
    "data = file.read()\n",
    "file.close()\n",
    "data[:800]"
   ]
  },
  {
   "cell_type": "code",
   "execution_count": null,
   "metadata": {},
   "outputs": [],
   "source": [
    "#Once you finish all the questions in the notebook, you will be able to understand this pattern\n",
    "\n",
    "messages = re.findall('(\\d+/\\d+/\\d+, \\d+:\\d+\\d+ [A-Z]*) - (.*): (.*)', data)\n",
    "\n",
    " #Convert list to a dataframe and name the columns\n",
    "df = pd.DataFrame(messages,columns=['date','name','message'])\n",
    "df['date'] = pd.to_datetime(df['date'],format=\"%m/%d/%y, %I:%M %p\")\n",
    "\n",
    "messages[:2]\n",
    "df.head(4)\n",
    "df.shape"
   ]
  },
  {
   "cell_type": "markdown",
   "metadata": {},
   "source": [
    "# <b> Regex Cheatsheet<b>"
   ]
  },
  {
   "cell_type": "markdown",
   "metadata": {},
   "source": [
    "<img src=\"regex_cheatsheet-1.png\" alt=\"Drawing\" style=\"width: 500px;\"/>"
   ]
  },
  {
   "cell_type": "markdown",
   "metadata": {},
   "source": [
    "# Python Regex Editor: www.pythex.org"
   ]
  },
  {
   "cell_type": "markdown",
   "metadata": {},
   "source": [
    "<img src=\"web_1.png\" alt=\"Drawing\" style=\"width: 500px;\"/>"
   ]
  },
  {
   "cell_type": "markdown",
   "metadata": {},
   "source": [
    "# **Anchors**"
   ]
  },
  {
   "cell_type": "markdown",
   "metadata": {},
   "source": [
    "<img src=\"anchors.png\" alt=\"Drawing\" style=\"width: 300px;\"/>"
   ]
  },
  {
   "cell_type": "markdown",
   "metadata": {},
   "source": [
    "**Q1. Count the number of times your name appeared in the chat.**"
   ]
  },
  {
   "cell_type": "markdown",
   "metadata": {},
   "source": [
    "**Answer below:**"
   ]
  },
  {
   "cell_type": "code",
   "execution_count": null,
   "metadata": {
    "scrolled": false
   },
   "outputs": [],
   "source": [
    "match = re.findall(r'Enteryourname', data)\n",
    "print(match[:10])\n",
    "print('Matches: ' + str(len(match)))"
   ]
  },
  {
   "cell_type": "markdown",
   "metadata": {},
   "source": [
    "**Q2. Match a specific date of your choice that appears in your whatsapp chat using the '^' anchor.**\n",
    "<br>\n",
    "<br>\n",
    "**Note**: Use **re.MULTILINE** to get date from different lines"
   ]
  },
  {
   "cell_type": "markdown",
   "metadata": {},
   "source": [
    "**EXAMPLE:**"
   ]
  },
  {
   "cell_type": "markdown",
   "metadata": {},
   "source": [
    "<img src=\"reg_3.png\" alt=\"Drawing\" align= 'left' style=\"width: 400px;\"/>"
   ]
  },
  {
   "cell_type": "markdown",
   "metadata": {},
   "source": [
    "**Answer below:**"
   ]
  },
  {
   "cell_type": "code",
   "execution_count": null,
   "metadata": {},
   "outputs": [],
   "source": [
    "match = re.findall(r'^(8/7/19)',data,re.MULTILINE)\n",
    "print(match)"
   ]
  },
  {
   "cell_type": "markdown",
   "metadata": {},
   "source": [
    "**Q3. Repeat Q2 using \\A anchor. Is there any difference? Are you able to match a date that is not there in the first line?**\n",
    "<br>\n",
    "<br>\n",
    "**Note: \\A** anchor matches only the start of the string even if **re.MULTILINE** is specified."
   ]
  },
  {
   "cell_type": "markdown",
   "metadata": {},
   "source": [
    "<img src=\"reg_2.png\" alt=\"Drawing\" align= 'left' style=\"width: 400px;\"/>"
   ]
  },
  {
   "cell_type": "markdown",
   "metadata": {},
   "source": [
    "**Answer below:**"
   ]
  },
  {
   "cell_type": "code",
   "execution_count": null,
   "metadata": {},
   "outputs": [],
   "source": [
    "match = re.findall(r' ',data)\n",
    "print(match)   "
   ]
  },
  {
   "cell_type": "markdown",
   "metadata": {},
   "source": [
    "**Q4. Count how many times a question mark ('?') appears at the end of each line. Do not count question marks that are in between the sentence.**\n",
    "<br>\n",
    "<br>\n",
    "**Note**: Use **re.MULTILINE** to get date from different lines. "
   ]
  },
  {
   "cell_type": "markdown",
   "metadata": {},
   "source": [
    "<img src=\"reg_4.png\" alt=\"Drawing\" align= 'left' style=\"width: 400px;\"/>"
   ]
  },
  {
   "cell_type": "markdown",
   "metadata": {},
   "source": [
    "**Answer below:**"
   ]
  },
  {
   "cell_type": "markdown",
   "metadata": {},
   "source": [
    "**Q5. Count how many times a question mark ('?') appears in the entire text.**"
   ]
  },
  {
   "cell_type": "markdown",
   "metadata": {},
   "source": [
    "**Answer below:**"
   ]
  },
  {
   "cell_type": "code",
   "execution_count": null,
   "metadata": {
    "scrolled": true
   },
   "outputs": [],
   "source": [
    "match = re.findall(r' ', data)\n",
    "print(match[:10])\n",
    "print('Matches: ' + str(len(match)))"
   ]
  },
  {
   "cell_type": "markdown",
   "metadata": {},
   "source": [
    "**Q6. Given the text below, match the second occurence of 'business', which is at the end of the first line.**\n",
    "<br>\n",
    "<br>\n",
    "text =\n",
    "<br>\n",
    "\"The transaction was business to business\n",
    "<br>Take care\"\n",
    "<br>\n",
    "<br>\n",
    "**Note: Use re.MULTILINE.**"
   ]
  },
  {
   "cell_type": "markdown",
   "metadata": {},
   "source": [
    "**Answer below:**"
   ]
  },
  {
   "cell_type": "code",
   "execution_count": null,
   "metadata": {
    "scrolled": true
   },
   "outputs": [],
   "source": [
    "text = \"The transaction was business to business\\nTake care\"\n",
    "match = re.findall(r' ', text,re.MULTILINE)\n",
    "print(match)"
   ]
  },
  {
   "cell_type": "markdown",
   "metadata": {},
   "source": [
    "**Q7. Using the same text in Q6, match 'business' at the end of line 1 using '\\Z' anchor. Is it possible? How about matching 'care' at the end of line 2?**\n",
    "<br>\n",
    "<br>\n",
    "**Note: \\Z** anchor matches only the end of the whole string even if **re.MULTILINE** is specified."
   ]
  },
  {
   "cell_type": "markdown",
   "metadata": {},
   "source": [
    "**Answer below:**"
   ]
  },
  {
   "cell_type": "code",
   "execution_count": null,
   "metadata": {
    "scrolled": true
   },
   "outputs": [],
   "source": [
    "text = \"The transaction was business to business\\nTake care\"\n",
    "match = re.findall(r' ', text)\n",
    "print(match)"
   ]
  },
  {
   "cell_type": "markdown",
   "metadata": {},
   "source": [
    "# **Character Classes**"
   ]
  },
  {
   "cell_type": "markdown",
   "metadata": {},
   "source": [
    "<img src=\"character.png\" alt=\"Drawing\" style=\"width: 300px;\"/>"
   ]
  },
  {
   "cell_type": "markdown",
   "metadata": {},
   "source": [
    "**Q8. Match all whitespace characters in your whatsapp text.**"
   ]
  },
  {
   "cell_type": "markdown",
   "metadata": {},
   "source": [
    "<img src=\"reg_5.png\" alt=\"Drawing\" align='left' style=\"width: 400px;\"/>"
   ]
  },
  {
   "cell_type": "markdown",
   "metadata": {},
   "source": [
    "**Answer below:**"
   ]
  },
  {
   "cell_type": "code",
   "execution_count": null,
   "metadata": {},
   "outputs": [],
   "source": [
    "match = re.findall(r' ',data)\n",
    "print(match[:10])\n",
    "print('Matches: ' + str(len(match)))"
   ]
  },
  {
   "cell_type": "markdown",
   "metadata": {},
   "source": [
    "**Q9. Match all non-whitespace characters in your whatsapp text.**"
   ]
  },
  {
   "cell_type": "markdown",
   "metadata": {},
   "source": [
    "<img src=\"reg_6.png\" alt=\"Drawing\" align='left' style=\"width: 400px;\"/>"
   ]
  },
  {
   "cell_type": "markdown",
   "metadata": {},
   "source": [
    "**Answer below:**"
   ]
  },
  {
   "cell_type": "code",
   "execution_count": null,
   "metadata": {},
   "outputs": [],
   "source": [
    "match = re.findall(r' ',data)\n",
    "print(match[:10])\n",
    "print('Matches: ' + str(len(match)))"
   ]
  },
  {
   "cell_type": "markdown",
   "metadata": {},
   "source": [
    "**Q10. Match all digits in your whatsapp text.**"
   ]
  },
  {
   "cell_type": "markdown",
   "metadata": {},
   "source": [
    "<img src=\"reg_7.png\" alt=\"Drawing\" align='left' style=\"width: 400px;\"/>"
   ]
  },
  {
   "cell_type": "markdown",
   "metadata": {},
   "source": [
    "**Answer below:**"
   ]
  },
  {
   "cell_type": "code",
   "execution_count": null,
   "metadata": {},
   "outputs": [],
   "source": [
    "match = re.findall(r' ',data)\n",
    "print(match[:10])\n",
    "print('Matches: ' + str(len(match)))"
   ]
  },
  {
   "cell_type": "markdown",
   "metadata": {},
   "source": [
    "**Q11. Match all non-digits in your whatsapp text.**"
   ]
  },
  {
   "cell_type": "markdown",
   "metadata": {},
   "source": [
    "<img src=\"reg_8.png\" alt=\"Drawing\" align='left' style=\"width: 400px;\"/>"
   ]
  },
  {
   "cell_type": "markdown",
   "metadata": {},
   "source": [
    "**Answer below:**"
   ]
  },
  {
   "cell_type": "code",
   "execution_count": null,
   "metadata": {},
   "outputs": [],
   "source": [
    "match = re.findall(r' ',data)\n",
    "print(match[:10])\n",
    "print('Matches: ' + str(len(match)))"
   ]
  },
  {
   "cell_type": "markdown",
   "metadata": {},
   "source": [
    "**Q12. Match all alphanumeric characters in your whatsapp text.**"
   ]
  },
  {
   "cell_type": "markdown",
   "metadata": {},
   "source": [
    "<img src=\"reg_9.png\" alt=\"Drawing\" align='left' style=\"width: 400px;\"/>"
   ]
  },
  {
   "cell_type": "markdown",
   "metadata": {},
   "source": [
    "**Answer below:**"
   ]
  },
  {
   "cell_type": "code",
   "execution_count": null,
   "metadata": {},
   "outputs": [],
   "source": [
    "match = re.findall(' ',data)\n",
    "print(match[:10])\n",
    "print('Matches: ' + str(len(match)))"
   ]
  },
  {
   "cell_type": "markdown",
   "metadata": {},
   "source": [
    "**Q13. Match all characters that are not words in your whatsapp text.**"
   ]
  },
  {
   "cell_type": "markdown",
   "metadata": {},
   "source": [
    "<img src=\"reg_10.png\" alt=\"Drawing\" align='left' style=\"width: 400px;\"/>"
   ]
  },
  {
   "cell_type": "markdown",
   "metadata": {},
   "source": [
    "**Answer below:**"
   ]
  },
  {
   "cell_type": "code",
   "execution_count": null,
   "metadata": {
    "scrolled": true
   },
   "outputs": [],
   "source": [
    "match = re.findall(r' ',data)\n",
    "print(match[:10])\n",
    "print('Matches: ' + str(len(match)))"
   ]
  },
  {
   "cell_type": "markdown",
   "metadata": {},
   "source": [
    "**Q14. Match all 3 digit numbers in your whatsapp text.**\n",
    "<br>\n",
    "<br>\n",
    "**Hint**: Use word boundary (\\b) to avoid matching 3 digits in 4 digit numbers."
   ]
  },
  {
   "cell_type": "markdown",
   "metadata": {},
   "source": [
    "<img src=\"reg_11.png\" alt=\"Drawing\" align='left' style=\"width: 400px;\"/>"
   ]
  },
  {
   "cell_type": "markdown",
   "metadata": {},
   "source": [
    "**Answer below:**"
   ]
  },
  {
   "cell_type": "code",
   "execution_count": null,
   "metadata": {},
   "outputs": [],
   "source": [
    "match = re.findall(r' ',data)\n",
    "print(match[:10])\n",
    "print('Matches: ' + str(len(match)))"
   ]
  },
  {
   "cell_type": "markdown",
   "metadata": {},
   "source": [
    "# **Groups and Ranges**"
   ]
  },
  {
   "cell_type": "markdown",
   "metadata": {},
   "source": [
    "<img src=\"grouprange.png\" alt=\"Drawing\" style=\"width: 300px;\"/>"
   ]
  },
  {
   "cell_type": "markdown",
   "metadata": {},
   "source": [
    "**Q15. Match any character in your whatsapp text.**"
   ]
  },
  {
   "cell_type": "markdown",
   "metadata": {},
   "source": [
    "**Answer below:**"
   ]
  },
  {
   "cell_type": "code",
   "execution_count": null,
   "metadata": {},
   "outputs": [],
   "source": [
    "match = re.findall(r' ',data)\n",
    "print(match[:10])\n",
    "print('Matches: ' + str(len(match)))"
   ]
  },
  {
   "cell_type": "markdown",
   "metadata": {},
   "source": [
    "**Q16. Match the first 6 characters in your whatsapp text.**\n",
    "<br>\n",
    "<br>\n",
    "**Hint**: Use ^ or \\A anchor for start of string."
   ]
  },
  {
   "cell_type": "markdown",
   "metadata": {},
   "source": [
    "**Answer below:**"
   ]
  },
  {
   "cell_type": "code",
   "execution_count": null,
   "metadata": {},
   "outputs": [],
   "source": [
    "match = re.findall(r' ',data)\n",
    "print(match[:10])\n",
    "print('Matches: ' + str(len(match)))"
   ]
  },
  {
   "cell_type": "markdown",
   "metadata": {},
   "source": [
    "**Q17. Match the last 6 characters in your whatsapp text.**\n",
    "<br>\n",
    "<br>\n",
    "**Hint**: Use $ or \\Z anchor for end of string."
   ]
  },
  {
   "cell_type": "markdown",
   "metadata": {},
   "source": [
    "**Answer below:**"
   ]
  },
  {
   "cell_type": "code",
   "execution_count": null,
   "metadata": {},
   "outputs": [],
   "source": [
    "match = re.findall(r' ',data)\n",
    "print(match[:10])\n",
    "print('Matches: ' + str(len(match)))"
   ]
  },
  {
   "cell_type": "markdown",
   "metadata": {},
   "source": [
    "**Q18. Match all vowels in your whatsapp text.**"
   ]
  },
  {
   "cell_type": "markdown",
   "metadata": {},
   "source": [
    "**Answer below:**"
   ]
  },
  {
   "cell_type": "code",
   "execution_count": null,
   "metadata": {},
   "outputs": [],
   "source": [
    "match = re.findall(r' ',data)\n",
    "print(match[:10])\n",
    "print('Matches: ' + str(len(match)))"
   ]
  },
  {
   "cell_type": "markdown",
   "metadata": {},
   "source": [
    "**Q19. Match AM or PM in your whatsapp text using range operator**"
   ]
  },
  {
   "cell_type": "markdown",
   "metadata": {},
   "source": [
    "**Answer below:**"
   ]
  },
  {
   "cell_type": "code",
   "execution_count": null,
   "metadata": {},
   "outputs": [],
   "source": [
    "match = re.findall(r' ',data)\n",
    "print(match[:10])\n",
    "print('Matches: ' + str(len(match)))"
   ]
  },
  {
   "cell_type": "markdown",
   "metadata": {},
   "source": [
    "**Q20. Match all characters except vowels in your whatsapp text.**"
   ]
  },
  {
   "cell_type": "markdown",
   "metadata": {},
   "source": [
    "**Answer below:**"
   ]
  },
  {
   "cell_type": "code",
   "execution_count": null,
   "metadata": {},
   "outputs": [],
   "source": [
    "match = re.findall(r' ',data)\n",
    "print(match[:10])\n",
    "print('Matches: ' + str(len(match)))"
   ]
  },
  {
   "cell_type": "markdown",
   "metadata": {},
   "source": [
    "**Q21. Check how many messages were sent between 9 PM to 11 PM in your whatsapp text.**"
   ]
  },
  {
   "cell_type": "markdown",
   "metadata": {},
   "source": [
    "**Answer below:**"
   ]
  },
  {
   "cell_type": "code",
   "execution_count": null,
   "metadata": {},
   "outputs": [],
   "source": [
    "match = re.findall(r' ',data)\n",
    "print(match[:10])\n",
    "print('Matches: ' + str(len(match)))"
   ]
  },
  {
   "cell_type": "markdown",
   "metadata": {},
   "source": [
    "# **Quantifiers**"
   ]
  },
  {
   "cell_type": "markdown",
   "metadata": {},
   "source": [
    "<img src=\"quantifiers.png\" alt=\"Drawing\" style=\"width: 300px;\"/>"
   ]
  },
  {
   "cell_type": "markdown",
   "metadata": {},
   "source": [
    "**Q22. Match 1 or more occurences of your name in your whatsapp text using a quantifier.**"
   ]
  },
  {
   "cell_type": "markdown",
   "metadata": {},
   "source": [
    "**Answer below:**"
   ]
  },
  {
   "cell_type": "code",
   "execution_count": null,
   "metadata": {},
   "outputs": [],
   "source": [
    "match = re.findall(r' ',data)\n",
    "print(match[:10])\n",
    "print('Matches: ' + str(len(match)))"
   ]
  },
  {
   "cell_type": "markdown",
   "metadata": {},
   "source": [
    "**Q23. Match 0 or more occurences of your name in your whatsapp text using a quantifier. Can you notice the difference between + and * ?**"
   ]
  },
  {
   "cell_type": "markdown",
   "metadata": {},
   "source": [
    "**Answer below:**"
   ]
  },
  {
   "cell_type": "code",
   "execution_count": null,
   "metadata": {},
   "outputs": [],
   "source": [
    "match = re.findall(r' ',data)\n",
    "print(match[:10])\n",
    "print('Matches: ' + str(len(match)))"
   ]
  },
  {
   "cell_type": "markdown",
   "metadata": {},
   "source": [
    "**Q24. Match all 2 digit numbers in your whatsapp text using a quantifier.**"
   ]
  },
  {
   "cell_type": "markdown",
   "metadata": {},
   "source": [
    "**Answer below:**"
   ]
  },
  {
   "cell_type": "code",
   "execution_count": null,
   "metadata": {
    "scrolled": true
   },
   "outputs": [],
   "source": [
    "match = re.findall(r' ',data)\n",
    "print(match[:10])\n",
    "print('Matches: ' + str(len(match)))"
   ]
  },
  {
   "cell_type": "markdown",
   "metadata": {},
   "source": [
    "**Q25. Match all 3 or more digit numbers in your whatsapp text using a quantifier.**"
   ]
  },
  {
   "cell_type": "markdown",
   "metadata": {},
   "source": [
    "**Answer below:**"
   ]
  },
  {
   "cell_type": "code",
   "execution_count": null,
   "metadata": {},
   "outputs": [],
   "source": [
    "match = re.findall(r' ',data)\n",
    "print(match[:10])\n",
    "print('Matches: ' + str(len(match)))"
   ]
  },
  {
   "cell_type": "markdown",
   "metadata": {},
   "source": [
    "**Q26. Match all 5,6,7 letter words in your whatsapp text using a quantifier. Account for both uppercase and lowercase letters.**"
   ]
  },
  {
   "cell_type": "markdown",
   "metadata": {},
   "source": [
    "**Answer below:**"
   ]
  },
  {
   "cell_type": "code",
   "execution_count": null,
   "metadata": {},
   "outputs": [],
   "source": [
    "match = re.findall(r' ',data)\n",
    "print(match[:10])\n",
    "print('Matches: ' + str(len(match)))"
   ]
  },
  {
   "cell_type": "markdown",
   "metadata": {},
   "source": [
    "# **Bonus Questions**"
   ]
  },
  {
   "cell_type": "markdown",
   "metadata": {},
   "source": [
    "**Q27. What are the total number of media in your whatsapp chat?**"
   ]
  },
  {
   "cell_type": "markdown",
   "metadata": {},
   "source": [
    "**Answer below:**"
   ]
  },
  {
   "cell_type": "code",
   "execution_count": null,
   "metadata": {
    "scrolled": true
   },
   "outputs": [],
   "source": [
    "match = re.findall(r' ',data)\n",
    "print(match[:10])\n",
    "print('Matches: ' + str(len(match)))"
   ]
  },
  {
   "cell_type": "markdown",
   "metadata": {},
   "source": [
    "**Q28. Who are the people sending media files? Who sends the most media files?**\n",
    "<br>\n",
    "<br>\n",
    "**Note:** You need a find a pattern to match the names or phone numbers of people who have < Media omitted > as the message. Get creative!"
   ]
  },
  {
   "cell_type": "markdown",
   "metadata": {},
   "source": [
    "<br>\n",
    "<img src=\"reg_13.png\" alt=\"Drawing\" align='left' style=\"width: 500px;\"/>"
   ]
  },
  {
   "cell_type": "markdown",
   "metadata": {},
   "source": [
    "**Answer below:**"
   ]
  },
  {
   "cell_type": "code",
   "execution_count": null,
   "metadata": {},
   "outputs": [],
   "source": [
    "match = re.findall(r' ',data)\n",
    "print(match[:10])\n",
    "print('Matches: ' + str(len(match)))\n",
    "\n",
    "pd.DataFrame(match,columns=['media_count'])['media_count'].value_counts()[:5]"
   ]
  },
  {
   "cell_type": "markdown",
   "metadata": {},
   "source": [
    "**Q29. Repeat Q28. without using .* in your pattern. If you havent used .* previously, skip this question.**"
   ]
  },
  {
   "cell_type": "markdown",
   "metadata": {},
   "source": [
    "**Answer below:**"
   ]
  },
  {
   "cell_type": "code",
   "execution_count": null,
   "metadata": {},
   "outputs": [],
   "source": [
    "match = re.findall(r' ',data)\n",
    "print(match[:10])\n",
    "print('Matches: ' + str(len(match)))\n",
    "\n",
    "pd.DataFrame(match,columns=['media_count'])['media_count'].value_counts()[:5]"
   ]
  },
  {
   "cell_type": "markdown",
   "metadata": {},
   "source": [
    "**Q30. What are the total number of messages in your whatsapp chat? Who sends the most messages? Match the author and message.**\n",
    "<br>\n",
    "<br>\n",
    "**Note:** Make the pattern ungreedy by using the ? operator"
   ]
  },
  {
   "cell_type": "markdown",
   "metadata": {},
   "source": [
    "<img src=\"reg_14.png\" alt=\"Drawing\" align='left' style=\"width: 800px;\"/>"
   ]
  },
  {
   "cell_type": "markdown",
   "metadata": {},
   "source": [
    "**Answer below:**"
   ]
  },
  {
   "cell_type": "code",
   "execution_count": null,
   "metadata": {},
   "outputs": [],
   "source": [
    "match = re.findall(r' ',data)\n",
    "print(match[:3])\n",
    "print('Matches: ' + str(len(match)))\n",
    "\n",
    "pd.DataFrame(match,columns=['author','message'])['author'].value_counts().head(5)"
   ]
  },
  {
   "cell_type": "markdown",
   "metadata": {},
   "source": [
    "**Q31. What are the total number of words in each message ? What is the frequency count? Match only the message.**"
   ]
  },
  {
   "cell_type": "markdown",
   "metadata": {},
   "source": [
    "<img src=\"reg_15.png\" alt=\"Drawing\" align='left' style=\"width: 800px;\"/>"
   ]
  },
  {
   "cell_type": "markdown",
   "metadata": {},
   "source": [
    "**Answer below:**"
   ]
  },
  {
   "cell_type": "code",
   "execution_count": null,
   "metadata": {},
   "outputs": [],
   "source": [
    "match = re.findall(r' ',data)\n",
    "print(match[:3])\n",
    "print('Matches: ' + str(len(match)))\n",
    "\n",
    "pd.DataFrame(match,columns=['message'])['message'].apply(lambda s : len(s.split(' ')))[:15].sort_values(ascending=False).plot(kind='barh')"
   ]
  },
  {
   "cell_type": "markdown",
   "metadata": {},
   "source": [
    "**Q32. Who is the most talkative person?**"
   ]
  },
  {
   "cell_type": "markdown",
   "metadata": {},
   "source": [
    "**Answer below:**"
   ]
  },
  {
   "cell_type": "code",
   "execution_count": null,
   "metadata": {
    "scrolled": true
   },
   "outputs": [],
   "source": [
    "match = re.findall(r' ',data)\n",
    "print(match[:3])\n",
    "print('Matches: ' + str(len(match)))\n",
    "\n",
    "df = pd.DataFrame(match,columns=['author','message'])\n",
    "df['num_of_words'] = df['message'].apply(lambda s : len(s.split(' ')))\n",
    "df.groupby('author').sum()['num_of_words'].sort_values(ascending=False)[:10].plot(kind='barh')"
   ]
  },
  {
   "cell_type": "markdown",
   "metadata": {},
   "source": [
    "**Q33. Which person typed the most characters?**"
   ]
  },
  {
   "cell_type": "markdown",
   "metadata": {},
   "source": [
    "**Answer below:**"
   ]
  },
  {
   "cell_type": "code",
   "execution_count": null,
   "metadata": {},
   "outputs": [],
   "source": [
    "match = re.findall(r' ',data)\n",
    "print(match[:3])\n",
    "print('Matches: ' + str(len(match)))\n",
    "\n",
    "df = pd.DataFrame(match,columns=['author','message'])\n",
    "df['num_of_letters'] = df['message'].apply(lambda s : len(s))\n",
    "df.groupby('author').sum()['num_of_letters'].sort_values(ascending=False)[:10].plot(kind='barh')"
   ]
  }
 ],
 "metadata": {
  "kernelspec": {
   "display_name": "Python 3",
   "language": "python",
   "name": "python3"
  },
  "language_info": {
   "codemirror_mode": {
    "name": "ipython",
    "version": 3
   },
   "file_extension": ".py",
   "mimetype": "text/x-python",
   "name": "python",
   "nbconvert_exporter": "python",
   "pygments_lexer": "ipython3",
   "version": "3.7.3"
  }
 },
 "nbformat": 4,
 "nbformat_minor": 4
}
